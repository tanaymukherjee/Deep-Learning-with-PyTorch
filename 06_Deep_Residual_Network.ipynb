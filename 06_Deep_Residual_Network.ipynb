{
  "nbformat": 4,
  "nbformat_minor": 0,
  "metadata": {
    "colab": {
      "name": "06. Deep Residual Network.ipynb",
      "provenance": [],
      "collapsed_sections": [],
      "authorship_tag": "ABX9TyN1Lana+zjLPkxHwAhz8xOs",
      "include_colab_link": true
    },
    "kernelspec": {
      "name": "python3",
      "display_name": "Python 3"
    },
    "widgets": {
      "application/vnd.jupyter.widget-state+json": {
        "61b6f7d10d904b5bb9bb04ce4aa51c0b": {
          "model_module": "@jupyter-widgets/controls",
          "model_name": "HBoxModel",
          "state": {
            "_view_name": "HBoxView",
            "_dom_classes": [],
            "_model_name": "HBoxModel",
            "_view_module": "@jupyter-widgets/controls",
            "_model_module_version": "1.5.0",
            "_view_count": null,
            "_view_module_version": "1.5.0",
            "box_style": "",
            "layout": "IPY_MODEL_1602286249294500bea2527d53522b13",
            "_model_module": "@jupyter-widgets/controls",
            "children": [
              "IPY_MODEL_a1b573d267ed41479e0c6cecf8625ee4",
              "IPY_MODEL_6db59f0db7804c52a91c6de34d3e0b5c"
            ]
          }
        },
        "1602286249294500bea2527d53522b13": {
          "model_module": "@jupyter-widgets/base",
          "model_name": "LayoutModel",
          "state": {
            "_view_name": "LayoutView",
            "grid_template_rows": null,
            "right": null,
            "justify_content": null,
            "_view_module": "@jupyter-widgets/base",
            "overflow": null,
            "_model_module_version": "1.2.0",
            "_view_count": null,
            "flex_flow": null,
            "width": null,
            "min_width": null,
            "border": null,
            "align_items": null,
            "bottom": null,
            "_model_module": "@jupyter-widgets/base",
            "top": null,
            "grid_column": null,
            "overflow_y": null,
            "overflow_x": null,
            "grid_auto_flow": null,
            "grid_area": null,
            "grid_template_columns": null,
            "flex": null,
            "_model_name": "LayoutModel",
            "justify_items": null,
            "grid_row": null,
            "max_height": null,
            "align_content": null,
            "visibility": null,
            "align_self": null,
            "height": null,
            "min_height": null,
            "padding": null,
            "grid_auto_rows": null,
            "grid_gap": null,
            "max_width": null,
            "order": null,
            "_view_module_version": "1.2.0",
            "grid_template_areas": null,
            "object_position": null,
            "object_fit": null,
            "grid_auto_columns": null,
            "margin": null,
            "display": null,
            "left": null
          }
        },
        "a1b573d267ed41479e0c6cecf8625ee4": {
          "model_module": "@jupyter-widgets/controls",
          "model_name": "FloatProgressModel",
          "state": {
            "_view_name": "ProgressView",
            "style": "IPY_MODEL_d87ce29c94cc41acbb6549ea72d6b681",
            "_dom_classes": [],
            "description": "",
            "_model_name": "FloatProgressModel",
            "bar_style": "info",
            "max": 1,
            "_view_module": "@jupyter-widgets/controls",
            "_model_module_version": "1.5.0",
            "value": 1,
            "_view_count": null,
            "_view_module_version": "1.5.0",
            "orientation": "horizontal",
            "min": 0,
            "description_tooltip": null,
            "_model_module": "@jupyter-widgets/controls",
            "layout": "IPY_MODEL_75c5a178624d442d85f2d7776d9a003e"
          }
        },
        "6db59f0db7804c52a91c6de34d3e0b5c": {
          "model_module": "@jupyter-widgets/controls",
          "model_name": "HTMLModel",
          "state": {
            "_view_name": "HTMLView",
            "style": "IPY_MODEL_2d24d44ca3ee407aae2ffa60bd469521",
            "_dom_classes": [],
            "description": "",
            "_model_name": "HTMLModel",
            "placeholder": "​",
            "_view_module": "@jupyter-widgets/controls",
            "_model_module_version": "1.5.0",
            "value": " 170500096/? [00:20&lt;00:00, 58950032.62it/s]",
            "_view_count": null,
            "_view_module_version": "1.5.0",
            "description_tooltip": null,
            "_model_module": "@jupyter-widgets/controls",
            "layout": "IPY_MODEL_979ba705906449a6811ab137615b8196"
          }
        },
        "d87ce29c94cc41acbb6549ea72d6b681": {
          "model_module": "@jupyter-widgets/controls",
          "model_name": "ProgressStyleModel",
          "state": {
            "_view_name": "StyleView",
            "_model_name": "ProgressStyleModel",
            "description_width": "initial",
            "_view_module": "@jupyter-widgets/base",
            "_model_module_version": "1.5.0",
            "_view_count": null,
            "_view_module_version": "1.2.0",
            "bar_color": null,
            "_model_module": "@jupyter-widgets/controls"
          }
        },
        "75c5a178624d442d85f2d7776d9a003e": {
          "model_module": "@jupyter-widgets/base",
          "model_name": "LayoutModel",
          "state": {
            "_view_name": "LayoutView",
            "grid_template_rows": null,
            "right": null,
            "justify_content": null,
            "_view_module": "@jupyter-widgets/base",
            "overflow": null,
            "_model_module_version": "1.2.0",
            "_view_count": null,
            "flex_flow": null,
            "width": null,
            "min_width": null,
            "border": null,
            "align_items": null,
            "bottom": null,
            "_model_module": "@jupyter-widgets/base",
            "top": null,
            "grid_column": null,
            "overflow_y": null,
            "overflow_x": null,
            "grid_auto_flow": null,
            "grid_area": null,
            "grid_template_columns": null,
            "flex": null,
            "_model_name": "LayoutModel",
            "justify_items": null,
            "grid_row": null,
            "max_height": null,
            "align_content": null,
            "visibility": null,
            "align_self": null,
            "height": null,
            "min_height": null,
            "padding": null,
            "grid_auto_rows": null,
            "grid_gap": null,
            "max_width": null,
            "order": null,
            "_view_module_version": "1.2.0",
            "grid_template_areas": null,
            "object_position": null,
            "object_fit": null,
            "grid_auto_columns": null,
            "margin": null,
            "display": null,
            "left": null
          }
        },
        "2d24d44ca3ee407aae2ffa60bd469521": {
          "model_module": "@jupyter-widgets/controls",
          "model_name": "DescriptionStyleModel",
          "state": {
            "_view_name": "StyleView",
            "_model_name": "DescriptionStyleModel",
            "description_width": "",
            "_view_module": "@jupyter-widgets/base",
            "_model_module_version": "1.5.0",
            "_view_count": null,
            "_view_module_version": "1.2.0",
            "_model_module": "@jupyter-widgets/controls"
          }
        },
        "979ba705906449a6811ab137615b8196": {
          "model_module": "@jupyter-widgets/base",
          "model_name": "LayoutModel",
          "state": {
            "_view_name": "LayoutView",
            "grid_template_rows": null,
            "right": null,
            "justify_content": null,
            "_view_module": "@jupyter-widgets/base",
            "overflow": null,
            "_model_module_version": "1.2.0",
            "_view_count": null,
            "flex_flow": null,
            "width": null,
            "min_width": null,
            "border": null,
            "align_items": null,
            "bottom": null,
            "_model_module": "@jupyter-widgets/base",
            "top": null,
            "grid_column": null,
            "overflow_y": null,
            "overflow_x": null,
            "grid_auto_flow": null,
            "grid_area": null,
            "grid_template_columns": null,
            "flex": null,
            "_model_name": "LayoutModel",
            "justify_items": null,
            "grid_row": null,
            "max_height": null,
            "align_content": null,
            "visibility": null,
            "align_self": null,
            "height": null,
            "min_height": null,
            "padding": null,
            "grid_auto_rows": null,
            "grid_gap": null,
            "max_width": null,
            "order": null,
            "_view_module_version": "1.2.0",
            "grid_template_areas": null,
            "object_position": null,
            "object_fit": null,
            "grid_auto_columns": null,
            "margin": null,
            "display": null,
            "left": null
          }
        }
      }
    }
  },
  "cells": [
    {
      "cell_type": "markdown",
      "metadata": {
        "id": "view-in-github",
        "colab_type": "text"
      },
      "source": [
        "<a href=\"https://colab.research.google.com/github/tanaymukherjee/Deep-Learning-with-PyTorch/blob/master/06_Deep_Residual_Network.ipynb\" target=\"_parent\"><img src=\"https://colab.research.google.com/assets/colab-badge.svg\" alt=\"Open In Colab\"/></a>"
      ]
    },
    {
      "cell_type": "markdown",
      "metadata": {
        "id": "bwhPbnRnDOPj",
        "colab_type": "text"
      },
      "source": [
        "# Deep Residual Network"
      ]
    },
    {
      "cell_type": "markdown",
      "metadata": {
        "id": "6tGgl4HKDVNb",
        "colab_type": "text"
      },
      "source": [
        "## Import packages and libraries"
      ]
    },
    {
      "cell_type": "code",
      "metadata": {
        "id": "2T8IZTd-DIyB",
        "colab_type": "code",
        "colab": {}
      },
      "source": [
        "import torch\n",
        "import torch.nn as nn\n",
        "import torchvision\n",
        "import torchvision.transforms as transforms"
      ],
      "execution_count": 1,
      "outputs": []
    },
    {
      "cell_type": "markdown",
      "metadata": {
        "id": "mywhfj0vDYcy",
        "colab_type": "text"
      },
      "source": [
        "## Device configuration"
      ]
    },
    {
      "cell_type": "code",
      "metadata": {
        "id": "fWGDff6BDarc",
        "colab_type": "code",
        "colab": {}
      },
      "source": [
        "device = torch.device('cuda' if torch.cuda.is_available() else 'cpu')"
      ],
      "execution_count": 2,
      "outputs": []
    },
    {
      "cell_type": "markdown",
      "metadata": {
        "id": "F2gcc1TSDeSk",
        "colab_type": "text"
      },
      "source": [
        "## Hyper-parameters"
      ]
    },
    {
      "cell_type": "code",
      "metadata": {
        "id": "uRPUEghsDfGr",
        "colab_type": "code",
        "colab": {}
      },
      "source": [
        "num_epochs = 80\n",
        "batch_size = 100\n",
        "learning_rate = 0.001"
      ],
      "execution_count": 3,
      "outputs": []
    },
    {
      "cell_type": "markdown",
      "metadata": {
        "id": "W2yCCJ5xJC-R",
        "colab_type": "text"
      },
      "source": [
        "## Image Processing modules"
      ]
    },
    {
      "cell_type": "code",
      "metadata": {
        "id": "zUF_dUzpJG6g",
        "colab_type": "code",
        "colab": {}
      },
      "source": [
        "transform = transforms.Compose([\n",
        "    transforms.Pad(4),\n",
        "    transforms.RandomHorizontalFlip(),\n",
        "    transforms.RandomCrop(32),\n",
        "    transforms.ToTensor()])"
      ],
      "execution_count": 4,
      "outputs": []
    },
    {
      "cell_type": "markdown",
      "metadata": {
        "id": "91iapwooDh16",
        "colab_type": "text"
      },
      "source": [
        "## CIFAR-10 dataset"
      ]
    },
    {
      "cell_type": "code",
      "metadata": {
        "id": "GZlMNozMDjEH",
        "colab_type": "code",
        "colab": {
          "base_uri": "https://localhost:8080/",
          "height": 84,
          "referenced_widgets": [
            "61b6f7d10d904b5bb9bb04ce4aa51c0b",
            "1602286249294500bea2527d53522b13",
            "a1b573d267ed41479e0c6cecf8625ee4",
            "6db59f0db7804c52a91c6de34d3e0b5c",
            "d87ce29c94cc41acbb6549ea72d6b681",
            "75c5a178624d442d85f2d7776d9a003e",
            "2d24d44ca3ee407aae2ffa60bd469521",
            "979ba705906449a6811ab137615b8196"
          ]
        },
        "outputId": "d04f74f3-2444-4047-e90a-131aab1393f8"
      },
      "source": [
        "train_dataset = torchvision.datasets.CIFAR10(root='../../data/',\n",
        "                                             train=True, \n",
        "                                             transform=transform,\n",
        "                                             download=True)\n",
        "\n",
        "test_dataset = torchvision.datasets.CIFAR10(root='../../data/',\n",
        "                                            train=False, \n",
        "                                            transform=transforms.ToTensor())"
      ],
      "execution_count": 5,
      "outputs": [
        {
          "output_type": "stream",
          "text": [
            "Downloading https://www.cs.toronto.edu/~kriz/cifar-10-python.tar.gz to ../../data/cifar-10-python.tar.gz\n"
          ],
          "name": "stdout"
        },
        {
          "output_type": "display_data",
          "data": {
            "application/vnd.jupyter.widget-view+json": {
              "model_id": "61b6f7d10d904b5bb9bb04ce4aa51c0b",
              "version_minor": 0,
              "version_major": 2
            },
            "text/plain": [
              "HBox(children=(FloatProgress(value=1.0, bar_style='info', max=1.0), HTML(value='')))"
            ]
          },
          "metadata": {
            "tags": []
          }
        },
        {
          "output_type": "stream",
          "text": [
            "Extracting ../../data/cifar-10-python.tar.gz to ../../data/\n"
          ],
          "name": "stdout"
        }
      ]
    },
    {
      "cell_type": "markdown",
      "metadata": {
        "id": "m4ZhJJvaDlOT",
        "colab_type": "text"
      },
      "source": [
        "## Data loader"
      ]
    },
    {
      "cell_type": "code",
      "metadata": {
        "id": "ueoXYqscDmyC",
        "colab_type": "code",
        "colab": {}
      },
      "source": [
        "train_loader = torch.utils.data.DataLoader(dataset=train_dataset,\n",
        "                                           batch_size=batch_size,\n",
        "                                           shuffle=True)\n",
        "\n",
        "test_loader = torch.utils.data.DataLoader(dataset=test_dataset,\n",
        "                                          batch_size=batch_size,\n",
        "                                          shuffle=False)"
      ],
      "execution_count": 6,
      "outputs": []
    },
    {
      "cell_type": "markdown",
      "metadata": {
        "id": "kqW8NNKTDryq",
        "colab_type": "text"
      },
      "source": [
        "## Deep Residual Network"
      ]
    },
    {
      "cell_type": "markdown",
      "metadata": {
        "id": "D0v3PFEZGz2c",
        "colab_type": "text"
      },
      "source": [
        "### 3x3 convolution"
      ]
    },
    {
      "cell_type": "code",
      "metadata": {
        "id": "2M2xMS6zDvCL",
        "colab_type": "code",
        "colab": {}
      },
      "source": [
        "def conv3x3(in_channels, out_channels, stride=1):\n",
        "    return nn.Conv2d(in_channels, out_channels, kernel_size=3, \n",
        "                     stride=stride, padding=1, bias=False)"
      ],
      "execution_count": 7,
      "outputs": []
    },
    {
      "cell_type": "markdown",
      "metadata": {
        "id": "roXR3wooG0ZC",
        "colab_type": "text"
      },
      "source": [
        "### Residual block"
      ]
    },
    {
      "cell_type": "code",
      "metadata": {
        "id": "U5Y9jtTuDxjK",
        "colab_type": "code",
        "colab": {}
      },
      "source": [
        "class ResidualBlock(nn.Module):\n",
        "    def __init__(self, in_channels, out_channels, stride=1, downsample=None):\n",
        "        super(ResidualBlock, self).__init__()\n",
        "        self.conv1 = conv3x3(in_channels, out_channels, stride)\n",
        "        self.bn1 = nn.BatchNorm2d(out_channels)\n",
        "        self.relu = nn.ReLU(inplace=True)\n",
        "        self.conv2 = conv3x3(out_channels, out_channels)\n",
        "        self.bn2 = nn.BatchNorm2d(out_channels)\n",
        "        self.downsample = downsample\n",
        "        \n",
        "    def forward(self, x):\n",
        "        residual = x\n",
        "        out = self.conv1(x)\n",
        "        out = self.bn1(out)\n",
        "        out = self.relu(out)\n",
        "        out = self.conv2(out)\n",
        "        out = self.bn2(out)\n",
        "        if self.downsample:\n",
        "            residual = self.downsample(x)\n",
        "        out += residual\n",
        "        out = self.relu(out)\n",
        "        return out"
      ],
      "execution_count": 10,
      "outputs": []
    },
    {
      "cell_type": "markdown",
      "metadata": {
        "id": "Jd-KuT55HBNE",
        "colab_type": "text"
      },
      "source": [
        "## ResNet"
      ]
    },
    {
      "cell_type": "code",
      "metadata": {
        "id": "de2lXDmhHDy6",
        "colab_type": "code",
        "colab": {}
      },
      "source": [
        "class ResNet(nn.Module):\n",
        "    def __init__(self, block, layers, num_classes=10):\n",
        "        super(ResNet, self).__init__()\n",
        "        self.in_channels = 16\n",
        "        self.conv = conv3x3(3, 16)\n",
        "        self.bn = nn.BatchNorm2d(16)\n",
        "        self.relu = nn.ReLU(inplace=True)\n",
        "        self.layer1 = self.make_layer(block, 16, layers[0])\n",
        "        self.layer2 = self.make_layer(block, 32, layers[1], 2)\n",
        "        self.layer3 = self.make_layer(block, 64, layers[2], 2)\n",
        "        self.avg_pool = nn.AvgPool2d(8)\n",
        "        self.fc = nn.Linear(64, num_classes)\n",
        "        \n",
        "    def make_layer(self, block, out_channels, blocks, stride=1):\n",
        "        downsample = None\n",
        "        if (stride != 1) or (self.in_channels != out_channels):\n",
        "            downsample = nn.Sequential(\n",
        "                conv3x3(self.in_channels, out_channels, stride=stride),\n",
        "                nn.BatchNorm2d(out_channels))\n",
        "        layers = []\n",
        "        layers.append(block(self.in_channels, out_channels, stride, downsample))\n",
        "        self.in_channels = out_channels\n",
        "        for i in range(1, blocks):\n",
        "            layers.append(block(out_channels, out_channels))\n",
        "        return nn.Sequential(*layers)\n",
        "    \n",
        "    def forward(self, x):\n",
        "        out = self.conv(x)\n",
        "        out = self.bn(out)\n",
        "        out = self.relu(out)\n",
        "        out = self.layer1(out)\n",
        "        out = self.layer2(out)\n",
        "        out = self.layer3(out)\n",
        "        out = self.avg_pool(out)\n",
        "        out = out.view(out.size(0), -1)\n",
        "        out = self.fc(out)\n",
        "        return out"
      ],
      "execution_count": 11,
      "outputs": []
    },
    {
      "cell_type": "code",
      "metadata": {
        "id": "IC6Ktl2mHHdS",
        "colab_type": "code",
        "colab": {}
      },
      "source": [
        "model = ResNet(ResidualBlock, [2, 2, 2]).to(device)"
      ],
      "execution_count": 12,
      "outputs": []
    },
    {
      "cell_type": "markdown",
      "metadata": {
        "id": "Xmyt582qDv-b",
        "colab_type": "text"
      },
      "source": [
        "## Loss and optimizer"
      ]
    },
    {
      "cell_type": "code",
      "metadata": {
        "id": "UGSnLA1_Dzv-",
        "colab_type": "code",
        "colab": {}
      },
      "source": [
        "criterion = nn.CrossEntropyLoss()\n",
        "optimizer = torch.optim.Adam(model.parameters(), lr=learning_rate)"
      ],
      "execution_count": 13,
      "outputs": []
    },
    {
      "cell_type": "markdown",
      "metadata": {
        "id": "p-E2c7qLHJna",
        "colab_type": "text"
      },
      "source": [
        "## For updating learning rate"
      ]
    },
    {
      "cell_type": "code",
      "metadata": {
        "id": "La1S6-_8HJz6",
        "colab_type": "code",
        "colab": {}
      },
      "source": [
        "def update_lr(optimizer, lr):    \n",
        "    for param_group in optimizer.param_groups:\n",
        "        param_group['lr'] = lr"
      ],
      "execution_count": 14,
      "outputs": []
    },
    {
      "cell_type": "markdown",
      "metadata": {
        "id": "HSxRpmj4D2Pr",
        "colab_type": "text"
      },
      "source": [
        "## Train the model"
      ]
    },
    {
      "cell_type": "code",
      "metadata": {
        "id": "LgIQiQfAD4Zs",
        "colab_type": "code",
        "colab": {
          "base_uri": "https://localhost:8080/",
          "height": 1000
        },
        "outputId": "dae4f0a6-fdae-423b-ec7a-40f91c794b1d"
      },
      "source": [
        "total_step = len(train_loader)\n",
        "curr_lr = learning_rate\n",
        "for epoch in range(num_epochs):\n",
        "    for i, (images, labels) in enumerate(train_loader):\n",
        "        images = images.to(device)\n",
        "        labels = labels.to(device)\n",
        "        \n",
        "        # Forward pass\n",
        "        outputs = model(images)\n",
        "        loss = criterion(outputs, labels)\n",
        "        \n",
        "        # Backward and optimize\n",
        "        optimizer.zero_grad()\n",
        "        loss.backward()\n",
        "        optimizer.step()\n",
        "        \n",
        "        if (i+1) % 100 == 0:\n",
        "            print (\"Epoch [{}/{}], Step [{}/{}] Loss: {:.4f}\"\n",
        "                   .format(epoch+1, num_epochs, i+1, total_step, loss.item()))\n",
        "\n",
        "    # Decay learning rate\n",
        "    if (epoch+1) % 20 == 0:\n",
        "        curr_lr /= 3\n",
        "        update_lr(optimizer, curr_lr)"
      ],
      "execution_count": 15,
      "outputs": [
        {
          "output_type": "stream",
          "text": [
            "Epoch [1/80], Step [100/500] Loss: 1.7231\n",
            "Epoch [1/80], Step [200/500] Loss: 1.4553\n",
            "Epoch [1/80], Step [300/500] Loss: 1.4111\n",
            "Epoch [1/80], Step [400/500] Loss: 1.1310\n",
            "Epoch [1/80], Step [500/500] Loss: 1.2849\n",
            "Epoch [2/80], Step [100/500] Loss: 0.9379\n",
            "Epoch [2/80], Step [200/500] Loss: 0.9348\n",
            "Epoch [2/80], Step [300/500] Loss: 1.0152\n",
            "Epoch [2/80], Step [400/500] Loss: 0.8910\n",
            "Epoch [2/80], Step [500/500] Loss: 1.0680\n",
            "Epoch [3/80], Step [100/500] Loss: 1.0100\n",
            "Epoch [3/80], Step [200/500] Loss: 0.8180\n",
            "Epoch [3/80], Step [300/500] Loss: 0.8851\n",
            "Epoch [3/80], Step [400/500] Loss: 0.9056\n",
            "Epoch [3/80], Step [500/500] Loss: 0.6244\n",
            "Epoch [4/80], Step [100/500] Loss: 0.7027\n",
            "Epoch [4/80], Step [200/500] Loss: 0.8076\n",
            "Epoch [4/80], Step [300/500] Loss: 0.7893\n",
            "Epoch [4/80], Step [400/500] Loss: 0.5932\n",
            "Epoch [4/80], Step [500/500] Loss: 0.7096\n",
            "Epoch [5/80], Step [100/500] Loss: 0.7968\n",
            "Epoch [5/80], Step [200/500] Loss: 0.6232\n",
            "Epoch [5/80], Step [300/500] Loss: 0.5081\n",
            "Epoch [5/80], Step [400/500] Loss: 0.7163\n",
            "Epoch [5/80], Step [500/500] Loss: 0.7923\n",
            "Epoch [6/80], Step [100/500] Loss: 0.7054\n",
            "Epoch [6/80], Step [200/500] Loss: 0.4597\n",
            "Epoch [6/80], Step [300/500] Loss: 0.6761\n",
            "Epoch [6/80], Step [400/500] Loss: 0.7487\n",
            "Epoch [6/80], Step [500/500] Loss: 0.5825\n",
            "Epoch [7/80], Step [100/500] Loss: 0.5630\n",
            "Epoch [7/80], Step [200/500] Loss: 0.5164\n",
            "Epoch [7/80], Step [300/500] Loss: 0.6480\n",
            "Epoch [7/80], Step [400/500] Loss: 0.5512\n",
            "Epoch [7/80], Step [500/500] Loss: 0.5226\n",
            "Epoch [8/80], Step [100/500] Loss: 0.5909\n",
            "Epoch [8/80], Step [200/500] Loss: 0.5016\n",
            "Epoch [8/80], Step [300/500] Loss: 0.5548\n",
            "Epoch [8/80], Step [400/500] Loss: 0.5797\n",
            "Epoch [8/80], Step [500/500] Loss: 0.5980\n",
            "Epoch [9/80], Step [100/500] Loss: 0.5873\n",
            "Epoch [9/80], Step [200/500] Loss: 0.6443\n",
            "Epoch [9/80], Step [300/500] Loss: 0.4817\n",
            "Epoch [9/80], Step [400/500] Loss: 0.4151\n",
            "Epoch [9/80], Step [500/500] Loss: 0.5246\n",
            "Epoch [10/80], Step [100/500] Loss: 0.5610\n",
            "Epoch [10/80], Step [200/500] Loss: 0.4517\n",
            "Epoch [10/80], Step [300/500] Loss: 0.5552\n",
            "Epoch [10/80], Step [400/500] Loss: 0.3617\n",
            "Epoch [10/80], Step [500/500] Loss: 0.4299\n",
            "Epoch [11/80], Step [100/500] Loss: 0.4624\n",
            "Epoch [11/80], Step [200/500] Loss: 0.4926\n",
            "Epoch [11/80], Step [300/500] Loss: 0.4216\n",
            "Epoch [11/80], Step [400/500] Loss: 0.4897\n",
            "Epoch [11/80], Step [500/500] Loss: 0.4365\n",
            "Epoch [12/80], Step [100/500] Loss: 0.5564\n",
            "Epoch [12/80], Step [200/500] Loss: 0.4321\n",
            "Epoch [12/80], Step [300/500] Loss: 0.4096\n",
            "Epoch [12/80], Step [400/500] Loss: 0.5071\n",
            "Epoch [12/80], Step [500/500] Loss: 0.4721\n",
            "Epoch [13/80], Step [100/500] Loss: 0.5310\n",
            "Epoch [13/80], Step [200/500] Loss: 0.5977\n",
            "Epoch [13/80], Step [300/500] Loss: 0.4189\n",
            "Epoch [13/80], Step [400/500] Loss: 0.2632\n",
            "Epoch [13/80], Step [500/500] Loss: 0.5324\n",
            "Epoch [14/80], Step [100/500] Loss: 0.4074\n",
            "Epoch [14/80], Step [200/500] Loss: 0.3284\n",
            "Epoch [14/80], Step [300/500] Loss: 0.3871\n",
            "Epoch [14/80], Step [400/500] Loss: 0.2823\n",
            "Epoch [14/80], Step [500/500] Loss: 0.4026\n",
            "Epoch [15/80], Step [100/500] Loss: 0.5510\n",
            "Epoch [15/80], Step [200/500] Loss: 0.3391\n",
            "Epoch [15/80], Step [300/500] Loss: 0.3850\n",
            "Epoch [15/80], Step [400/500] Loss: 0.4668\n",
            "Epoch [15/80], Step [500/500] Loss: 0.4133\n",
            "Epoch [16/80], Step [100/500] Loss: 0.3518\n",
            "Epoch [16/80], Step [200/500] Loss: 0.4462\n",
            "Epoch [16/80], Step [300/500] Loss: 0.4110\n",
            "Epoch [16/80], Step [400/500] Loss: 0.3787\n",
            "Epoch [16/80], Step [500/500] Loss: 0.5474\n",
            "Epoch [17/80], Step [100/500] Loss: 0.2905\n",
            "Epoch [17/80], Step [200/500] Loss: 0.3499\n",
            "Epoch [17/80], Step [300/500] Loss: 0.3989\n",
            "Epoch [17/80], Step [400/500] Loss: 0.3475\n",
            "Epoch [17/80], Step [500/500] Loss: 0.3497\n",
            "Epoch [18/80], Step [100/500] Loss: 0.3550\n",
            "Epoch [18/80], Step [200/500] Loss: 0.3548\n",
            "Epoch [18/80], Step [300/500] Loss: 0.4527\n",
            "Epoch [18/80], Step [400/500] Loss: 0.3947\n",
            "Epoch [18/80], Step [500/500] Loss: 0.3032\n",
            "Epoch [19/80], Step [100/500] Loss: 0.2527\n",
            "Epoch [19/80], Step [200/500] Loss: 0.2925\n",
            "Epoch [19/80], Step [300/500] Loss: 0.2907\n",
            "Epoch [19/80], Step [400/500] Loss: 0.3697\n",
            "Epoch [19/80], Step [500/500] Loss: 0.4492\n",
            "Epoch [20/80], Step [100/500] Loss: 0.4919\n",
            "Epoch [20/80], Step [200/500] Loss: 0.3315\n",
            "Epoch [20/80], Step [300/500] Loss: 0.3673\n",
            "Epoch [20/80], Step [400/500] Loss: 0.3106\n",
            "Epoch [20/80], Step [500/500] Loss: 0.3132\n",
            "Epoch [21/80], Step [100/500] Loss: 0.3656\n",
            "Epoch [21/80], Step [200/500] Loss: 0.2882\n",
            "Epoch [21/80], Step [300/500] Loss: 0.2627\n",
            "Epoch [21/80], Step [400/500] Loss: 0.2588\n",
            "Epoch [21/80], Step [500/500] Loss: 0.3103\n",
            "Epoch [22/80], Step [100/500] Loss: 0.3921\n",
            "Epoch [22/80], Step [200/500] Loss: 0.2740\n",
            "Epoch [22/80], Step [300/500] Loss: 0.2176\n",
            "Epoch [22/80], Step [400/500] Loss: 0.2703\n",
            "Epoch [22/80], Step [500/500] Loss: 0.2628\n",
            "Epoch [23/80], Step [100/500] Loss: 0.2598\n",
            "Epoch [23/80], Step [200/500] Loss: 0.2476\n",
            "Epoch [23/80], Step [300/500] Loss: 0.2907\n",
            "Epoch [23/80], Step [400/500] Loss: 0.4151\n",
            "Epoch [23/80], Step [500/500] Loss: 0.3186\n",
            "Epoch [24/80], Step [100/500] Loss: 0.2984\n",
            "Epoch [24/80], Step [200/500] Loss: 0.1505\n",
            "Epoch [24/80], Step [300/500] Loss: 0.1965\n",
            "Epoch [24/80], Step [400/500] Loss: 0.1732\n",
            "Epoch [24/80], Step [500/500] Loss: 0.2279\n",
            "Epoch [25/80], Step [100/500] Loss: 0.2468\n",
            "Epoch [25/80], Step [200/500] Loss: 0.2485\n",
            "Epoch [25/80], Step [300/500] Loss: 0.2349\n",
            "Epoch [25/80], Step [400/500] Loss: 0.2030\n",
            "Epoch [25/80], Step [500/500] Loss: 0.2663\n",
            "Epoch [26/80], Step [100/500] Loss: 0.2919\n",
            "Epoch [26/80], Step [200/500] Loss: 0.2189\n",
            "Epoch [26/80], Step [300/500] Loss: 0.2605\n",
            "Epoch [26/80], Step [400/500] Loss: 0.2458\n",
            "Epoch [26/80], Step [500/500] Loss: 0.1864\n",
            "Epoch [27/80], Step [100/500] Loss: 0.3792\n",
            "Epoch [27/80], Step [200/500] Loss: 0.1979\n",
            "Epoch [27/80], Step [300/500] Loss: 0.2112\n",
            "Epoch [27/80], Step [400/500] Loss: 0.2837\n",
            "Epoch [27/80], Step [500/500] Loss: 0.1955\n",
            "Epoch [28/80], Step [100/500] Loss: 0.1390\n",
            "Epoch [28/80], Step [200/500] Loss: 0.2255\n",
            "Epoch [28/80], Step [300/500] Loss: 0.2518\n",
            "Epoch [28/80], Step [400/500] Loss: 0.2916\n",
            "Epoch [28/80], Step [500/500] Loss: 0.3095\n",
            "Epoch [29/80], Step [100/500] Loss: 0.3330\n",
            "Epoch [29/80], Step [200/500] Loss: 0.2639\n",
            "Epoch [29/80], Step [300/500] Loss: 0.3201\n",
            "Epoch [29/80], Step [400/500] Loss: 0.2309\n",
            "Epoch [29/80], Step [500/500] Loss: 0.1993\n",
            "Epoch [30/80], Step [100/500] Loss: 0.2298\n",
            "Epoch [30/80], Step [200/500] Loss: 0.2582\n",
            "Epoch [30/80], Step [300/500] Loss: 0.1630\n",
            "Epoch [30/80], Step [400/500] Loss: 0.2165\n",
            "Epoch [30/80], Step [500/500] Loss: 0.3049\n",
            "Epoch [31/80], Step [100/500] Loss: 0.3298\n",
            "Epoch [31/80], Step [200/500] Loss: 0.2254\n",
            "Epoch [31/80], Step [300/500] Loss: 0.2452\n",
            "Epoch [31/80], Step [400/500] Loss: 0.2591\n",
            "Epoch [31/80], Step [500/500] Loss: 0.1385\n",
            "Epoch [32/80], Step [100/500] Loss: 0.2332\n",
            "Epoch [32/80], Step [200/500] Loss: 0.1321\n",
            "Epoch [32/80], Step [300/500] Loss: 0.1949\n",
            "Epoch [32/80], Step [400/500] Loss: 0.2867\n",
            "Epoch [32/80], Step [500/500] Loss: 0.3288\n",
            "Epoch [33/80], Step [100/500] Loss: 0.2137\n",
            "Epoch [33/80], Step [200/500] Loss: 0.2341\n",
            "Epoch [33/80], Step [300/500] Loss: 0.1747\n",
            "Epoch [33/80], Step [400/500] Loss: 0.2521\n",
            "Epoch [33/80], Step [500/500] Loss: 0.2296\n",
            "Epoch [34/80], Step [100/500] Loss: 0.1932\n",
            "Epoch [34/80], Step [200/500] Loss: 0.2140\n",
            "Epoch [34/80], Step [300/500] Loss: 0.1930\n",
            "Epoch [34/80], Step [400/500] Loss: 0.2498\n",
            "Epoch [34/80], Step [500/500] Loss: 0.3513\n",
            "Epoch [35/80], Step [100/500] Loss: 0.1472\n",
            "Epoch [35/80], Step [200/500] Loss: 0.2733\n",
            "Epoch [35/80], Step [300/500] Loss: 0.2365\n",
            "Epoch [35/80], Step [400/500] Loss: 0.2216\n",
            "Epoch [35/80], Step [500/500] Loss: 0.1228\n",
            "Epoch [36/80], Step [100/500] Loss: 0.2532\n",
            "Epoch [36/80], Step [200/500] Loss: 0.3056\n",
            "Epoch [36/80], Step [300/500] Loss: 0.2646\n",
            "Epoch [36/80], Step [400/500] Loss: 0.1060\n",
            "Epoch [36/80], Step [500/500] Loss: 0.1531\n",
            "Epoch [37/80], Step [100/500] Loss: 0.2549\n",
            "Epoch [37/80], Step [200/500] Loss: 0.1917\n",
            "Epoch [37/80], Step [300/500] Loss: 0.1662\n",
            "Epoch [37/80], Step [400/500] Loss: 0.2403\n",
            "Epoch [37/80], Step [500/500] Loss: 0.1862\n",
            "Epoch [38/80], Step [100/500] Loss: 0.2208\n",
            "Epoch [38/80], Step [200/500] Loss: 0.1593\n",
            "Epoch [38/80], Step [300/500] Loss: 0.2053\n",
            "Epoch [38/80], Step [400/500] Loss: 0.1521\n",
            "Epoch [38/80], Step [500/500] Loss: 0.1841\n",
            "Epoch [39/80], Step [100/500] Loss: 0.1779\n",
            "Epoch [39/80], Step [200/500] Loss: 0.2574\n",
            "Epoch [39/80], Step [300/500] Loss: 0.1819\n",
            "Epoch [39/80], Step [400/500] Loss: 0.2382\n",
            "Epoch [39/80], Step [500/500] Loss: 0.1536\n",
            "Epoch [40/80], Step [100/500] Loss: 0.1517\n",
            "Epoch [40/80], Step [200/500] Loss: 0.1639\n",
            "Epoch [40/80], Step [300/500] Loss: 0.1908\n",
            "Epoch [40/80], Step [400/500] Loss: 0.2607\n",
            "Epoch [40/80], Step [500/500] Loss: 0.2148\n",
            "Epoch [41/80], Step [100/500] Loss: 0.1974\n",
            "Epoch [41/80], Step [200/500] Loss: 0.0998\n",
            "Epoch [41/80], Step [300/500] Loss: 0.1698\n",
            "Epoch [41/80], Step [400/500] Loss: 0.1653\n",
            "Epoch [41/80], Step [500/500] Loss: 0.1477\n",
            "Epoch [42/80], Step [100/500] Loss: 0.2499\n",
            "Epoch [42/80], Step [200/500] Loss: 0.1669\n",
            "Epoch [42/80], Step [300/500] Loss: 0.1172\n",
            "Epoch [42/80], Step [400/500] Loss: 0.1369\n",
            "Epoch [42/80], Step [500/500] Loss: 0.1571\n",
            "Epoch [43/80], Step [100/500] Loss: 0.1556\n",
            "Epoch [43/80], Step [200/500] Loss: 0.2758\n",
            "Epoch [43/80], Step [300/500] Loss: 0.1646\n",
            "Epoch [43/80], Step [400/500] Loss: 0.1651\n",
            "Epoch [43/80], Step [500/500] Loss: 0.1143\n",
            "Epoch [44/80], Step [100/500] Loss: 0.2677\n",
            "Epoch [44/80], Step [200/500] Loss: 0.1324\n",
            "Epoch [44/80], Step [300/500] Loss: 0.2645\n",
            "Epoch [44/80], Step [400/500] Loss: 0.2051\n",
            "Epoch [44/80], Step [500/500] Loss: 0.1902\n",
            "Epoch [45/80], Step [100/500] Loss: 0.1487\n",
            "Epoch [45/80], Step [200/500] Loss: 0.1250\n",
            "Epoch [45/80], Step [300/500] Loss: 0.2100\n",
            "Epoch [45/80], Step [400/500] Loss: 0.2846\n",
            "Epoch [45/80], Step [500/500] Loss: 0.2510\n",
            "Epoch [46/80], Step [100/500] Loss: 0.0488\n",
            "Epoch [46/80], Step [200/500] Loss: 0.0702\n",
            "Epoch [46/80], Step [300/500] Loss: 0.1815\n",
            "Epoch [46/80], Step [400/500] Loss: 0.1956\n",
            "Epoch [46/80], Step [500/500] Loss: 0.1485\n",
            "Epoch [47/80], Step [100/500] Loss: 0.1165\n",
            "Epoch [47/80], Step [200/500] Loss: 0.1190\n",
            "Epoch [47/80], Step [300/500] Loss: 0.2167\n",
            "Epoch [47/80], Step [400/500] Loss: 0.1150\n",
            "Epoch [47/80], Step [500/500] Loss: 0.1072\n",
            "Epoch [48/80], Step [100/500] Loss: 0.1865\n",
            "Epoch [48/80], Step [200/500] Loss: 0.1686\n",
            "Epoch [48/80], Step [300/500] Loss: 0.0859\n",
            "Epoch [48/80], Step [400/500] Loss: 0.1246\n",
            "Epoch [48/80], Step [500/500] Loss: 0.1889\n",
            "Epoch [49/80], Step [100/500] Loss: 0.3081\n",
            "Epoch [49/80], Step [200/500] Loss: 0.1408\n",
            "Epoch [49/80], Step [300/500] Loss: 0.2393\n",
            "Epoch [49/80], Step [400/500] Loss: 0.1154\n",
            "Epoch [49/80], Step [500/500] Loss: 0.2731\n",
            "Epoch [50/80], Step [100/500] Loss: 0.1605\n",
            "Epoch [50/80], Step [200/500] Loss: 0.1286\n",
            "Epoch [50/80], Step [300/500] Loss: 0.1790\n",
            "Epoch [50/80], Step [400/500] Loss: 0.2798\n",
            "Epoch [50/80], Step [500/500] Loss: 0.1760\n",
            "Epoch [51/80], Step [100/500] Loss: 0.1459\n",
            "Epoch [51/80], Step [200/500] Loss: 0.1562\n",
            "Epoch [51/80], Step [300/500] Loss: 0.1192\n",
            "Epoch [51/80], Step [400/500] Loss: 0.1744\n",
            "Epoch [51/80], Step [500/500] Loss: 0.0950\n",
            "Epoch [52/80], Step [100/500] Loss: 0.2703\n",
            "Epoch [52/80], Step [200/500] Loss: 0.2040\n",
            "Epoch [52/80], Step [300/500] Loss: 0.1550\n",
            "Epoch [52/80], Step [400/500] Loss: 0.2001\n",
            "Epoch [52/80], Step [500/500] Loss: 0.1764\n",
            "Epoch [53/80], Step [100/500] Loss: 0.1850\n",
            "Epoch [53/80], Step [200/500] Loss: 0.2248\n",
            "Epoch [53/80], Step [300/500] Loss: 0.1742\n",
            "Epoch [53/80], Step [400/500] Loss: 0.0809\n",
            "Epoch [53/80], Step [500/500] Loss: 0.1902\n",
            "Epoch [54/80], Step [100/500] Loss: 0.1213\n",
            "Epoch [54/80], Step [200/500] Loss: 0.1226\n",
            "Epoch [54/80], Step [300/500] Loss: 0.2325\n",
            "Epoch [54/80], Step [400/500] Loss: 0.2024\n",
            "Epoch [54/80], Step [500/500] Loss: 0.2008\n",
            "Epoch [55/80], Step [100/500] Loss: 0.1370\n",
            "Epoch [55/80], Step [200/500] Loss: 0.0880\n",
            "Epoch [55/80], Step [300/500] Loss: 0.2044\n",
            "Epoch [55/80], Step [400/500] Loss: 0.1508\n",
            "Epoch [55/80], Step [500/500] Loss: 0.1854\n",
            "Epoch [56/80], Step [100/500] Loss: 0.2543\n",
            "Epoch [56/80], Step [200/500] Loss: 0.1885\n",
            "Epoch [56/80], Step [300/500] Loss: 0.1308\n",
            "Epoch [56/80], Step [400/500] Loss: 0.1758\n",
            "Epoch [56/80], Step [500/500] Loss: 0.1581\n",
            "Epoch [57/80], Step [100/500] Loss: 0.2290\n",
            "Epoch [57/80], Step [200/500] Loss: 0.1659\n",
            "Epoch [57/80], Step [300/500] Loss: 0.1025\n",
            "Epoch [57/80], Step [400/500] Loss: 0.1470\n",
            "Epoch [57/80], Step [500/500] Loss: 0.1597\n",
            "Epoch [58/80], Step [100/500] Loss: 0.0538\n",
            "Epoch [58/80], Step [200/500] Loss: 0.2148\n",
            "Epoch [58/80], Step [300/500] Loss: 0.2063\n",
            "Epoch [58/80], Step [400/500] Loss: 0.1336\n",
            "Epoch [58/80], Step [500/500] Loss: 0.1339\n",
            "Epoch [59/80], Step [100/500] Loss: 0.1258\n",
            "Epoch [59/80], Step [200/500] Loss: 0.1710\n",
            "Epoch [59/80], Step [300/500] Loss: 0.2085\n",
            "Epoch [59/80], Step [400/500] Loss: 0.1089\n",
            "Epoch [59/80], Step [500/500] Loss: 0.0793\n",
            "Epoch [60/80], Step [100/500] Loss: 0.1080\n",
            "Epoch [60/80], Step [200/500] Loss: 0.2208\n",
            "Epoch [60/80], Step [300/500] Loss: 0.0985\n",
            "Epoch [60/80], Step [400/500] Loss: 0.0879\n",
            "Epoch [60/80], Step [500/500] Loss: 0.1516\n",
            "Epoch [61/80], Step [100/500] Loss: 0.1756\n",
            "Epoch [61/80], Step [200/500] Loss: 0.1217\n",
            "Epoch [61/80], Step [300/500] Loss: 0.2176\n",
            "Epoch [61/80], Step [400/500] Loss: 0.0974\n",
            "Epoch [61/80], Step [500/500] Loss: 0.0982\n",
            "Epoch [62/80], Step [100/500] Loss: 0.1231\n",
            "Epoch [62/80], Step [200/500] Loss: 0.1626\n",
            "Epoch [62/80], Step [300/500] Loss: 0.2156\n",
            "Epoch [62/80], Step [400/500] Loss: 0.1481\n",
            "Epoch [62/80], Step [500/500] Loss: 0.0943\n",
            "Epoch [63/80], Step [100/500] Loss: 0.1174\n",
            "Epoch [63/80], Step [200/500] Loss: 0.1377\n",
            "Epoch [63/80], Step [300/500] Loss: 0.1732\n",
            "Epoch [63/80], Step [400/500] Loss: 0.1937\n",
            "Epoch [63/80], Step [500/500] Loss: 0.1607\n",
            "Epoch [64/80], Step [100/500] Loss: 0.0679\n",
            "Epoch [64/80], Step [200/500] Loss: 0.2144\n",
            "Epoch [64/80], Step [300/500] Loss: 0.1365\n",
            "Epoch [64/80], Step [400/500] Loss: 0.2359\n",
            "Epoch [64/80], Step [500/500] Loss: 0.1293\n",
            "Epoch [65/80], Step [100/500] Loss: 0.1608\n",
            "Epoch [65/80], Step [200/500] Loss: 0.1560\n",
            "Epoch [65/80], Step [300/500] Loss: 0.2426\n",
            "Epoch [65/80], Step [400/500] Loss: 0.1720\n",
            "Epoch [65/80], Step [500/500] Loss: 0.1693\n",
            "Epoch [66/80], Step [100/500] Loss: 0.1884\n",
            "Epoch [66/80], Step [200/500] Loss: 0.1988\n",
            "Epoch [66/80], Step [300/500] Loss: 0.1584\n",
            "Epoch [66/80], Step [400/500] Loss: 0.1964\n",
            "Epoch [66/80], Step [500/500] Loss: 0.1772\n",
            "Epoch [67/80], Step [100/500] Loss: 0.0938\n",
            "Epoch [67/80], Step [200/500] Loss: 0.1229\n",
            "Epoch [67/80], Step [300/500] Loss: 0.1258\n",
            "Epoch [67/80], Step [400/500] Loss: 0.1552\n",
            "Epoch [67/80], Step [500/500] Loss: 0.1200\n",
            "Epoch [68/80], Step [100/500] Loss: 0.1019\n",
            "Epoch [68/80], Step [200/500] Loss: 0.1407\n",
            "Epoch [68/80], Step [300/500] Loss: 0.1224\n",
            "Epoch [68/80], Step [400/500] Loss: 0.1536\n",
            "Epoch [68/80], Step [500/500] Loss: 0.0975\n",
            "Epoch [69/80], Step [100/500] Loss: 0.1813\n",
            "Epoch [69/80], Step [200/500] Loss: 0.2017\n",
            "Epoch [69/80], Step [300/500] Loss: 0.1721\n",
            "Epoch [69/80], Step [400/500] Loss: 0.2613\n",
            "Epoch [69/80], Step [500/500] Loss: 0.2115\n",
            "Epoch [70/80], Step [100/500] Loss: 0.1962\n",
            "Epoch [70/80], Step [200/500] Loss: 0.0866\n",
            "Epoch [70/80], Step [300/500] Loss: 0.1292\n",
            "Epoch [70/80], Step [400/500] Loss: 0.1207\n",
            "Epoch [70/80], Step [500/500] Loss: 0.1162\n",
            "Epoch [71/80], Step [100/500] Loss: 0.2645\n",
            "Epoch [71/80], Step [200/500] Loss: 0.0925\n",
            "Epoch [71/80], Step [300/500] Loss: 0.2696\n",
            "Epoch [71/80], Step [400/500] Loss: 0.1072\n",
            "Epoch [71/80], Step [500/500] Loss: 0.0825\n",
            "Epoch [72/80], Step [100/500] Loss: 0.0696\n",
            "Epoch [72/80], Step [200/500] Loss: 0.0709\n",
            "Epoch [72/80], Step [300/500] Loss: 0.1404\n",
            "Epoch [72/80], Step [400/500] Loss: 0.1659\n",
            "Epoch [72/80], Step [500/500] Loss: 0.1875\n",
            "Epoch [73/80], Step [100/500] Loss: 0.1842\n",
            "Epoch [73/80], Step [200/500] Loss: 0.1225\n",
            "Epoch [73/80], Step [300/500] Loss: 0.1761\n",
            "Epoch [73/80], Step [400/500] Loss: 0.0910\n",
            "Epoch [73/80], Step [500/500] Loss: 0.0923\n",
            "Epoch [74/80], Step [100/500] Loss: 0.1197\n",
            "Epoch [74/80], Step [200/500] Loss: 0.1539\n",
            "Epoch [74/80], Step [300/500] Loss: 0.2230\n",
            "Epoch [74/80], Step [400/500] Loss: 0.1277\n",
            "Epoch [74/80], Step [500/500] Loss: 0.1896\n",
            "Epoch [75/80], Step [100/500] Loss: 0.2554\n",
            "Epoch [75/80], Step [200/500] Loss: 0.1305\n",
            "Epoch [75/80], Step [300/500] Loss: 0.1544\n",
            "Epoch [75/80], Step [400/500] Loss: 0.1331\n",
            "Epoch [75/80], Step [500/500] Loss: 0.0987\n",
            "Epoch [76/80], Step [100/500] Loss: 0.1322\n",
            "Epoch [76/80], Step [200/500] Loss: 0.1958\n",
            "Epoch [76/80], Step [300/500] Loss: 0.1219\n",
            "Epoch [76/80], Step [400/500] Loss: 0.2036\n",
            "Epoch [76/80], Step [500/500] Loss: 0.1222\n",
            "Epoch [77/80], Step [100/500] Loss: 0.1304\n",
            "Epoch [77/80], Step [200/500] Loss: 0.1546\n",
            "Epoch [77/80], Step [300/500] Loss: 0.2198\n",
            "Epoch [77/80], Step [400/500] Loss: 0.1015\n",
            "Epoch [77/80], Step [500/500] Loss: 0.0890\n",
            "Epoch [78/80], Step [100/500] Loss: 0.0748\n",
            "Epoch [78/80], Step [200/500] Loss: 0.1375\n",
            "Epoch [78/80], Step [300/500] Loss: 0.2127\n",
            "Epoch [78/80], Step [400/500] Loss: 0.1120\n",
            "Epoch [78/80], Step [500/500] Loss: 0.1536\n",
            "Epoch [79/80], Step [100/500] Loss: 0.0848\n",
            "Epoch [79/80], Step [200/500] Loss: 0.1771\n",
            "Epoch [79/80], Step [300/500] Loss: 0.2106\n",
            "Epoch [79/80], Step [400/500] Loss: 0.1170\n",
            "Epoch [79/80], Step [500/500] Loss: 0.2397\n",
            "Epoch [80/80], Step [100/500] Loss: 0.1645\n",
            "Epoch [80/80], Step [200/500] Loss: 0.0899\n",
            "Epoch [80/80], Step [300/500] Loss: 0.0870\n",
            "Epoch [80/80], Step [400/500] Loss: 0.1263\n",
            "Epoch [80/80], Step [500/500] Loss: 0.1331\n"
          ],
          "name": "stdout"
        }
      ]
    },
    {
      "cell_type": "markdown",
      "metadata": {
        "id": "DDp6oYTcD6rs",
        "colab_type": "text"
      },
      "source": [
        "## Test the model"
      ]
    },
    {
      "cell_type": "code",
      "metadata": {
        "id": "tbjLxIc-D7cj",
        "colab_type": "code",
        "colab": {
          "base_uri": "https://localhost:8080/",
          "height": 35
        },
        "outputId": "b2f379e8-8dea-4b46-999b-00ad3cdfcc24"
      },
      "source": [
        "model.eval()\n",
        "with torch.no_grad():\n",
        "    correct = 0\n",
        "    total = 0\n",
        "    for images, labels in test_loader:\n",
        "        images = images.to(device)\n",
        "        labels = labels.to(device)\n",
        "        outputs = model(images)\n",
        "        _, predicted = torch.max(outputs.data, 1)\n",
        "        total += labels.size(0)\n",
        "        correct += (predicted == labels).sum().item()\n",
        "\n",
        "    print('Accuracy of the model on the test images: {} %'.format(100 * correct / total))"
      ],
      "execution_count": 16,
      "outputs": [
        {
          "output_type": "stream",
          "text": [
            "Accuracy of the model on the test images: 88.55 %\n"
          ],
          "name": "stdout"
        }
      ]
    },
    {
      "cell_type": "markdown",
      "metadata": {
        "id": "4ayd2RaFD9iQ",
        "colab_type": "text"
      },
      "source": [
        "## Save the model checkpoint"
      ]
    },
    {
      "cell_type": "code",
      "metadata": {
        "id": "7KoHHC1QD_Gz",
        "colab_type": "code",
        "colab": {}
      },
      "source": [
        "torch.save(model.state_dict(), 'model.ckpt')"
      ],
      "execution_count": 17,
      "outputs": []
    }
  ]
}